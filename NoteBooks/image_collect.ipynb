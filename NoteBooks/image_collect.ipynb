{
 "cells": [
  {
   "cell_type": "code",
   "execution_count": 1,
   "metadata": {},
   "outputs": [],
   "source": [
    "import cv2\n",
    "import uuid\n",
    "import os\n",
    "import time"
   ]
  },
  {
   "cell_type": "code",
   "execution_count": 2,
   "metadata": {},
   "outputs": [],
   "source": [
    "labels = ['Yes', 'No', 'Thanks']\n",
    "number_imgs = 5"
   ]
  },
  {
   "cell_type": "code",
   "execution_count": 3,
   "metadata": {},
   "outputs": [],
   "source": [
    "IMAGES_PATH = os.path.join(os.getcwd(),'..', 'Images', 'CollectedImages')\n",
    "!mkdir {IMAGES_PATH}"
   ]
  },
  {
   "cell_type": "code",
   "execution_count": 4,
   "metadata": {},
   "outputs": [
    {
     "name": "stdout",
     "output_type": "stream",
     "text": [
      "Collecting images for Yes\n",
      "Collecting image 0\n",
      "c:\\Users\\caretaker\\Documents\\silence_\\NoteBooks\\..\\Images\\CollectedImages\\Yes\\Yes.67ac7163-77c8-11ee-91f2-d8f3bcaefd6c.jpg\n",
      "Collecting image 1\n",
      "c:\\Users\\caretaker\\Documents\\silence_\\NoteBooks\\..\\Images\\CollectedImages\\Yes\\Yes.68e7698f-77c8-11ee-9505-d8f3bcaefd6c.jpg\n",
      "Collecting image 2\n",
      "c:\\Users\\caretaker\\Documents\\silence_\\NoteBooks\\..\\Images\\CollectedImages\\Yes\\Yes.6a1bc026-77c8-11ee-bd37-d8f3bcaefd6c.jpg\n",
      "Collecting image 3\n",
      "c:\\Users\\caretaker\\Documents\\silence_\\NoteBooks\\..\\Images\\CollectedImages\\Yes\\Yes.6b548661-77c8-11ee-8d2c-d8f3bcaefd6c.jpg\n",
      "Collecting image 4\n",
      "c:\\Users\\caretaker\\Documents\\silence_\\NoteBooks\\..\\Images\\CollectedImages\\Yes\\Yes.6c8bbea9-77c8-11ee-8d0c-d8f3bcaefd6c.jpg\n",
      "Collecting images for No\n",
      "Collecting image 0\n",
      "c:\\Users\\caretaker\\Documents\\silence_\\NoteBooks\\..\\Images\\CollectedImages\\No\\No.71dbde6f-77c8-11ee-b851-d8f3bcaefd6c.jpg\n",
      "Collecting image 1\n",
      "c:\\Users\\caretaker\\Documents\\silence_\\NoteBooks\\..\\Images\\CollectedImages\\No\\No.7310d1c5-77c8-11ee-bee4-d8f3bcaefd6c.jpg\n",
      "Collecting image 2\n",
      "c:\\Users\\caretaker\\Documents\\silence_\\NoteBooks\\..\\Images\\CollectedImages\\No\\No.74454f94-77c8-11ee-aeb0-d8f3bcaefd6c.jpg\n",
      "Collecting image 3\n",
      "c:\\Users\\caretaker\\Documents\\silence_\\NoteBooks\\..\\Images\\CollectedImages\\No\\No.757e447b-77c8-11ee-8a19-d8f3bcaefd6c.jpg\n",
      "Collecting image 4\n",
      "c:\\Users\\caretaker\\Documents\\silence_\\NoteBooks\\..\\Images\\CollectedImages\\No\\No.76b4398b-77c8-11ee-aef5-d8f3bcaefd6c.jpg\n",
      "Collecting images for Thanks\n",
      "Collecting image 0\n",
      "c:\\Users\\caretaker\\Documents\\silence_\\NoteBooks\\..\\Images\\CollectedImages\\Thanks\\Thanks.7c02c630-77c8-11ee-8994-d8f3bcaefd6c.jpg\n",
      "Collecting image 1\n",
      "c:\\Users\\caretaker\\Documents\\silence_\\NoteBooks\\..\\Images\\CollectedImages\\Thanks\\Thanks.7d37abf7-77c8-11ee-985c-d8f3bcaefd6c.jpg\n",
      "Collecting image 2\n",
      "c:\\Users\\caretaker\\Documents\\silence_\\NoteBooks\\..\\Images\\CollectedImages\\Thanks\\Thanks.7e6b0e9c-77c8-11ee-93bd-d8f3bcaefd6c.jpg\n",
      "Collecting image 3\n",
      "c:\\Users\\caretaker\\Documents\\silence_\\NoteBooks\\..\\Images\\CollectedImages\\Thanks\\Thanks.7f9ecc08-77c8-11ee-b57c-d8f3bcaefd6c.jpg\n",
      "Collecting image 4\n",
      "c:\\Users\\caretaker\\Documents\\silence_\\NoteBooks\\..\\Images\\CollectedImages\\Thanks\\Thanks.80d4052a-77c8-11ee-a65c-d8f3bcaefd6c.jpg\n"
     ]
    }
   ],
   "source": [
    "for label in labels:\n",
    "    cap = cv2.VideoCapture(0)\n",
    "    print('Collecting images for {}'.format(label))\n",
    "    !mkdir {os.path.join(IMAGES_PATH, label)}\n",
    "    time.sleep(5)\n",
    "    for imgnum in range(number_imgs):\n",
    "        print('Collecting image {}'.format(imgnum))\n",
    "        ret, frame = cap.read()\n",
    "        imgname = os.path.join(IMAGES_PATH,label,label+'.'+'{}.jpg'.format(str(uuid.uuid1())))\n",
    "        print(imgname)\n",
    "        cv2.imwrite(imgname, frame)\n",
    "        cv2.imshow('frame', frame)\n",
    "        time.sleep(2)\n",
    "\n",
    "        if cv2.waitKey(1) & 0xFF == ord('q'):\n",
    "            break\n",
    "cap.release()\n",
    "cv2.destroyAllWindows()"
   ]
  }
 ],
 "metadata": {
  "kernelspec": {
   "display_name": "silence_",
   "language": "python",
   "name": "python3"
  },
  "language_info": {
   "codemirror_mode": {
    "name": "ipython",
    "version": 3
   },
   "file_extension": ".py",
   "mimetype": "text/x-python",
   "name": "python",
   "nbconvert_exporter": "python",
   "pygments_lexer": "ipython3",
   "version": "3.10.4"
  }
 },
 "nbformat": 4,
 "nbformat_minor": 2
}
